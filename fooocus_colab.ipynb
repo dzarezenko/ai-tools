{
 "cells": [
  {
   "cell_type": "code",
   "execution_count": null,
   "id": "c5b15cbd",
   "metadata": {
    "vscode": {
     "languageId": "plaintext"
    }
   },
   "outputs": [],
   "source": [
    "!pip install pygit2==1.15.1\n",
    "!pip install gradio==4.12.0\n",
    "!pip install -r https://raw.githubusercontent.com/lllyasviel/Fooocus/main/requirements_versions.txt\n",
    "\n",
    "%cd /content\n",
    "!git clone https://github.com/lllyasviel/Fooocus.git\n",
    "%cd /content/Fooocus\n",
    "!python entry_with_update.py --share --always-high-vram"
   ]
  }
 ],
 "metadata": {
  "language_info": {
   "name": "python"
  }
 },
 "nbformat": 4,
 "nbformat_minor": 5
}
