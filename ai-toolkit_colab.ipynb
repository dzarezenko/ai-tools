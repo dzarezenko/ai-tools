{
 "cells": [
  {
   "cell_type": "code",
   "execution_count": null,
   "metadata": {
    "colab": {
     "base_uri": "https://localhost:8080/"
    },
    "collapsed": true,
    "executionInfo": {
     "elapsed": 30319,
     "status": "ok",
     "timestamp": 1743970850840,
     "user": {
      "displayName": "Dmytro Zarezenko",
      "userId": "12313278528793362876"
     },
     "user_tz": -180
    },
    "id": "eszBuSXGgFLP",
    "outputId": "12116a56-9877-4711-dd67-e20ff4bf96e6"
   },
   "outputs": [],
   "source": [
    "!git clone https://github.com/ostris/ai-toolkit.git\n",
    "%cd ai-toolkit\n",
    "!git submodule update --init --recursive\n",
    "!pip install -r requirements.txt\n",
    "!pip install torch torchvision torchaudio --index-url https://download.pytorch.org/whl/cu118\n",
    "!pip install -U albumentations\n",
    "!pip install mediapipe\n",
    "\n",
    "!pip install pyngrok\n",
    "!ngrok config add-authtoken NGROK_API_KEY #https://dashboard.ngrok.com/get-started/your-authtoken\n"
   ]
  },
  {
   "cell_type": "code",
   "execution_count": null,
   "metadata": {
    "colab": {
     "base_uri": "https://localhost:8080/"
    },
    "executionInfo": {
     "elapsed": 412,
     "status": "ok",
     "timestamp": 1743970851254,
     "user": {
      "displayName": "Dmytro Zarezenko",
      "userId": "12313278528793362876"
     },
     "user_tz": -180
    },
    "id": "hBfqLioFpGwB",
    "outputId": "fb6afef9-ab86-4fb8-de3a-225e98e57ba9"
   },
   "outputs": [],
   "source": [
    "from pyngrok import ngrok\n",
    "\n",
    "public_url = ngrok.connect(8675, bind_tls=True)\n",
    "\n",
    "print(f\"🌐 Public URL: {public_url}\")\n"
   ]
  },
  {
   "cell_type": "code",
   "execution_count": null,
   "metadata": {
    "colab": {
     "base_uri": "https://localhost:8080/"
    },
    "executionInfo": {
     "elapsed": 4011,
     "status": "ok",
     "timestamp": 1743970855266,
     "user": {
      "displayName": "Dmytro Zarezenko",
      "userId": "12313278528793362876"
     },
     "user_tz": -180
    },
    "id": "xiHD4HujuU-j",
    "outputId": "df93346e-c055-4452-d370-6eca95325cfa"
   },
   "outputs": [],
   "source": [
    "import os\n",
    "import torch\n",
    "\n",
    "os.environ[\"PYTORCH_CUDA_ALLOC_CONF\"] = \"expandable_segments:True\"\n",
    "\n",
    "torch.cuda.empty_cache()\n",
    "\n",
    "!nvidia-smi"
   ]
  },
  {
   "cell_type": "code",
   "execution_count": null,
   "metadata": {
    "colab": {
     "base_uri": "https://localhost:8080/"
    },
    "collapsed": true,
    "id": "OkgC-kyWpwOV",
    "outputId": "603bd1a8-ea65-4953-896e-a0ec37379519"
   },
   "outputs": [],
   "source": [
    "%cd ui\n",
    "!npm i\n",
    "!npm run build_and_start"
   ]
  }
 ],
 "metadata": {
  "accelerator": "GPU",
  "colab": {
   "authorship_tag": "ABX9TyNsxFtvuro/R05UuEtJT3Gs",
   "gpuType": "T4",
   "provenance": []
  },
  "kernelspec": {
   "display_name": "Python 3",
   "name": "python3"
  },
  "language_info": {
   "name": "python"
  }
 },
 "nbformat": 4,
 "nbformat_minor": 0
}
